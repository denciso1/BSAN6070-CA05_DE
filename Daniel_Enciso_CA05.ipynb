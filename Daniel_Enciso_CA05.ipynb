{
  "nbformat": 4,
  "nbformat_minor": 0,
  "metadata": {
    "colab": {
      "name": "Daniel_Enciso_CA05.ipynb",
      "provenance": [],
      "collapsed_sections": []
    },
    "kernelspec": {
      "name": "python3",
      "display_name": "Python 3"
    },
    "language_info": {
      "name": "python"
    }
  },
  "cells": [
    {
      "cell_type": "markdown",
      "metadata": {
        "id": "uJ2GMvGbEpcN"
      },
      "source": [
        "##Daniel Enciso\n",
        "##CA05-A Logistic Regression\n"
      ]
    },
    {
      "cell_type": "code",
      "metadata": {
        "id": "mFCD_PDHClfq"
      },
      "source": [
        "# import packages \n",
        "import numpy as np\n",
        "import pandas as pd\n",
        "\n",
        "import matplotlib.pyplot as plt\n",
        "\n",
        "from sklearn.preprocessing import LabelEncoder\n",
        "from sklearn.tree import DecisionTreeClassifier\n",
        "from sklearn.ensemble import RandomForestClassifier\n",
        "from sklearn.ensemble import AdaBoostClassifier\n",
        "from sklearn.ensemble import GradientBoostingClassifier\n",
        "from sklearn.metrics import roc_auc_score\n",
        "from sklearn import linear_model\n",
        "from sklearn.model_selection import train_test_split\n",
        "from sklearn.datasets import load_iris\n",
        "from sklearn.linear_model import LogisticRegression\n",
        "from sklearn import metrics"
      ],
      "execution_count": 196,
      "outputs": []
    },
    {
      "cell_type": "markdown",
      "metadata": {
        "id": "YCi21hEDHW7P"
      },
      "source": [
        "##Data Source and Quality Analysis"
      ]
    },
    {
      "cell_type": "code",
      "metadata": {
        "id": "AhOY2fTfF6ti"
      },
      "source": [
        "#Accessing the data we will be working with:\n",
        "data = pd.read_csv('https://github.com/ArinB/CA05-B-Logistic-Regression/raw/master/cvd_data.csv')"
      ],
      "execution_count": 197,
      "outputs": []
    },
    {
      "cell_type": "code",
      "metadata": {
        "colab": {
          "base_uri": "https://localhost:8080/"
        },
        "id": "X7NLfyi0HvVh",
        "outputId": "41bac982-3da4-468d-f372-9ede5edb861a"
      },
      "source": [
        "#Confirming the column/row count\n",
        "data.shape"
      ],
      "execution_count": 198,
      "outputs": [
        {
          "output_type": "execute_result",
          "data": {
            "text/plain": [
              "(3242, 17)"
            ]
          },
          "metadata": {
            "tags": []
          },
          "execution_count": 198
        }
      ]
    },
    {
      "cell_type": "code",
      "metadata": {
        "colab": {
          "base_uri": "https://localhost:8080/",
          "height": 211
        },
        "id": "VcMg93sDH2oQ",
        "outputId": "82a63b54-1101-4a59-d66f-dd411ceb2b73"
      },
      "source": [
        "#Viewing the first five rows of our dataset\n",
        "data.head()"
      ],
      "execution_count": 199,
      "outputs": [
        {
          "output_type": "execute_result",
          "data": {
            "text/html": [
              "<div>\n",
              "<style scoped>\n",
              "    .dataframe tbody tr th:only-of-type {\n",
              "        vertical-align: middle;\n",
              "    }\n",
              "\n",
              "    .dataframe tbody tr th {\n",
              "        vertical-align: top;\n",
              "    }\n",
              "\n",
              "    .dataframe thead th {\n",
              "        text-align: right;\n",
              "    }\n",
              "</style>\n",
              "<table border=\"1\" class=\"dataframe\">\n",
              "  <thead>\n",
              "    <tr style=\"text-align: right;\">\n",
              "      <th></th>\n",
              "      <th>cvd_4types</th>\n",
              "      <th>age_s1</th>\n",
              "      <th>race</th>\n",
              "      <th>educat</th>\n",
              "      <th>mstat</th>\n",
              "      <th>hip</th>\n",
              "      <th>neck20</th>\n",
              "      <th>waist</th>\n",
              "      <th>av_weight_kg</th>\n",
              "      <th>cgpkyr</th>\n",
              "      <th>tea15</th>\n",
              "      <th>srhype</th>\n",
              "      <th>parrptdiab</th>\n",
              "      <th>bend25</th>\n",
              "      <th>happy25</th>\n",
              "      <th>tired25</th>\n",
              "      <th>hlthlm25</th>\n",
              "    </tr>\n",
              "  </thead>\n",
              "  <tbody>\n",
              "    <tr>\n",
              "      <th>0</th>\n",
              "      <td>0</td>\n",
              "      <td>54</td>\n",
              "      <td>1</td>\n",
              "      <td>2</td>\n",
              "      <td>1</td>\n",
              "      <td>110.0</td>\n",
              "      <td>40.0</td>\n",
              "      <td>108.0</td>\n",
              "      <td>87.5</td>\n",
              "      <td>34.0</td>\n",
              "      <td>0</td>\n",
              "      <td>1</td>\n",
              "      <td>0</td>\n",
              "      <td>1</td>\n",
              "      <td>2</td>\n",
              "      <td>3</td>\n",
              "      <td>4</td>\n",
              "    </tr>\n",
              "    <tr>\n",
              "      <th>1</th>\n",
              "      <td>0</td>\n",
              "      <td>56</td>\n",
              "      <td>3</td>\n",
              "      <td>2</td>\n",
              "      <td>1</td>\n",
              "      <td>113.0</td>\n",
              "      <td>34.0</td>\n",
              "      <td>107.0</td>\n",
              "      <td>83.5</td>\n",
              "      <td>0.0</td>\n",
              "      <td>0</td>\n",
              "      <td>0</td>\n",
              "      <td>0</td>\n",
              "      <td>2</td>\n",
              "      <td>2</td>\n",
              "      <td>1</td>\n",
              "      <td>3</td>\n",
              "    </tr>\n",
              "    <tr>\n",
              "      <th>2</th>\n",
              "      <td>0</td>\n",
              "      <td>54</td>\n",
              "      <td>1</td>\n",
              "      <td>3</td>\n",
              "      <td>1</td>\n",
              "      <td>110.0</td>\n",
              "      <td>44.5</td>\n",
              "      <td>105.0</td>\n",
              "      <td>86.2</td>\n",
              "      <td>49.5</td>\n",
              "      <td>0</td>\n",
              "      <td>0</td>\n",
              "      <td>0</td>\n",
              "      <td>3</td>\n",
              "      <td>2</td>\n",
              "      <td>6</td>\n",
              "      <td>4</td>\n",
              "    </tr>\n",
              "    <tr>\n",
              "      <th>3</th>\n",
              "      <td>0</td>\n",
              "      <td>54</td>\n",
              "      <td>1</td>\n",
              "      <td>3</td>\n",
              "      <td>1</td>\n",
              "      <td>129.0</td>\n",
              "      <td>42.5</td>\n",
              "      <td>110.0</td>\n",
              "      <td>89.1</td>\n",
              "      <td>0.0</td>\n",
              "      <td>0</td>\n",
              "      <td>0</td>\n",
              "      <td>0</td>\n",
              "      <td>3</td>\n",
              "      <td>2</td>\n",
              "      <td>1</td>\n",
              "      <td>3</td>\n",
              "    </tr>\n",
              "    <tr>\n",
              "      <th>4</th>\n",
              "      <td>0</td>\n",
              "      <td>51</td>\n",
              "      <td>3</td>\n",
              "      <td>2</td>\n",
              "      <td>1</td>\n",
              "      <td>122.0</td>\n",
              "      <td>37.0</td>\n",
              "      <td>113.0</td>\n",
              "      <td>81.3</td>\n",
              "      <td>0.0</td>\n",
              "      <td>0</td>\n",
              "      <td>0</td>\n",
              "      <td>0</td>\n",
              "      <td>2</td>\n",
              "      <td>1</td>\n",
              "      <td>1</td>\n",
              "      <td>2</td>\n",
              "    </tr>\n",
              "  </tbody>\n",
              "</table>\n",
              "</div>"
            ],
            "text/plain": [
              "   cvd_4types  age_s1  race  educat  ...  bend25  happy25  tired25  hlthlm25\n",
              "0           0      54     1       2  ...       1        2        3         4\n",
              "1           0      56     3       2  ...       2        2        1         3\n",
              "2           0      54     1       3  ...       3        2        6         4\n",
              "3           0      54     1       3  ...       3        2        1         3\n",
              "4           0      51     3       2  ...       2        1        1         2\n",
              "\n",
              "[5 rows x 17 columns]"
            ]
          },
          "metadata": {
            "tags": []
          },
          "execution_count": 199
        }
      ]
    },
    {
      "cell_type": "code",
      "metadata": {
        "colab": {
          "base_uri": "https://localhost:8080/",
          "height": 297
        },
        "id": "pILqRNTLHmc7",
        "outputId": "cd018b53-8422-4c2d-9597-67e82931f43e"
      },
      "source": [
        "data.describe()"
      ],
      "execution_count": 200,
      "outputs": [
        {
          "output_type": "execute_result",
          "data": {
            "text/html": [
              "<div>\n",
              "<style scoped>\n",
              "    .dataframe tbody tr th:only-of-type {\n",
              "        vertical-align: middle;\n",
              "    }\n",
              "\n",
              "    .dataframe tbody tr th {\n",
              "        vertical-align: top;\n",
              "    }\n",
              "\n",
              "    .dataframe thead th {\n",
              "        text-align: right;\n",
              "    }\n",
              "</style>\n",
              "<table border=\"1\" class=\"dataframe\">\n",
              "  <thead>\n",
              "    <tr style=\"text-align: right;\">\n",
              "      <th></th>\n",
              "      <th>cvd_4types</th>\n",
              "      <th>age_s1</th>\n",
              "      <th>race</th>\n",
              "      <th>educat</th>\n",
              "      <th>mstat</th>\n",
              "      <th>hip</th>\n",
              "      <th>neck20</th>\n",
              "      <th>waist</th>\n",
              "      <th>av_weight_kg</th>\n",
              "      <th>cgpkyr</th>\n",
              "      <th>tea15</th>\n",
              "      <th>srhype</th>\n",
              "      <th>parrptdiab</th>\n",
              "      <th>bend25</th>\n",
              "      <th>happy25</th>\n",
              "      <th>tired25</th>\n",
              "      <th>hlthlm25</th>\n",
              "    </tr>\n",
              "  </thead>\n",
              "  <tbody>\n",
              "    <tr>\n",
              "      <th>count</th>\n",
              "      <td>3242.000000</td>\n",
              "      <td>3242.000000</td>\n",
              "      <td>3242.000000</td>\n",
              "      <td>3242.000000</td>\n",
              "      <td>3242.000000</td>\n",
              "      <td>3242.000000</td>\n",
              "      <td>3242.000000</td>\n",
              "      <td>3242.000000</td>\n",
              "      <td>3242.000000</td>\n",
              "      <td>3242.000000</td>\n",
              "      <td>3242.000000</td>\n",
              "      <td>3242.000000</td>\n",
              "      <td>3242.000000</td>\n",
              "      <td>3242.000000</td>\n",
              "      <td>3242.000000</td>\n",
              "      <td>3242.000000</td>\n",
              "      <td>3242.000000</td>\n",
              "    </tr>\n",
              "    <tr>\n",
              "      <th>mean</th>\n",
              "      <td>0.590068</td>\n",
              "      <td>64.828809</td>\n",
              "      <td>1.094695</td>\n",
              "      <td>2.326342</td>\n",
              "      <td>1.368600</td>\n",
              "      <td>105.404832</td>\n",
              "      <td>37.550719</td>\n",
              "      <td>97.209904</td>\n",
              "      <td>82.945928</td>\n",
              "      <td>12.904010</td>\n",
              "      <td>0.430907</td>\n",
              "      <td>0.327884</td>\n",
              "      <td>0.067551</td>\n",
              "      <td>2.473782</td>\n",
              "      <td>2.281308</td>\n",
              "      <td>4.292721</td>\n",
              "      <td>3.864898</td>\n",
              "    </tr>\n",
              "    <tr>\n",
              "      <th>std</th>\n",
              "      <td>0.491897</td>\n",
              "      <td>10.400496</td>\n",
              "      <td>0.358237</td>\n",
              "      <td>0.697934</td>\n",
              "      <td>0.933871</td>\n",
              "      <td>10.280402</td>\n",
              "      <td>4.101003</td>\n",
              "      <td>13.598060</td>\n",
              "      <td>7.849650</td>\n",
              "      <td>20.156736</td>\n",
              "      <td>1.242444</td>\n",
              "      <td>0.469515</td>\n",
              "      <td>0.251012</td>\n",
              "      <td>0.672158</td>\n",
              "      <td>0.951695</td>\n",
              "      <td>1.021099</td>\n",
              "      <td>0.614247</td>\n",
              "    </tr>\n",
              "    <tr>\n",
              "      <th>min</th>\n",
              "      <td>0.000000</td>\n",
              "      <td>39.000000</td>\n",
              "      <td>1.000000</td>\n",
              "      <td>1.000000</td>\n",
              "      <td>1.000000</td>\n",
              "      <td>44.000000</td>\n",
              "      <td>25.000000</td>\n",
              "      <td>67.000000</td>\n",
              "      <td>57.400000</td>\n",
              "      <td>0.000000</td>\n",
              "      <td>0.000000</td>\n",
              "      <td>0.000000</td>\n",
              "      <td>0.000000</td>\n",
              "      <td>1.000000</td>\n",
              "      <td>1.000000</td>\n",
              "      <td>1.000000</td>\n",
              "      <td>1.000000</td>\n",
              "    </tr>\n",
              "    <tr>\n",
              "      <th>25%</th>\n",
              "      <td>0.000000</td>\n",
              "      <td>57.000000</td>\n",
              "      <td>1.000000</td>\n",
              "      <td>2.000000</td>\n",
              "      <td>1.000000</td>\n",
              "      <td>99.000000</td>\n",
              "      <td>34.425000</td>\n",
              "      <td>88.000000</td>\n",
              "      <td>78.200000</td>\n",
              "      <td>0.000000</td>\n",
              "      <td>0.000000</td>\n",
              "      <td>0.000000</td>\n",
              "      <td>0.000000</td>\n",
              "      <td>2.000000</td>\n",
              "      <td>2.000000</td>\n",
              "      <td>4.000000</td>\n",
              "      <td>4.000000</td>\n",
              "    </tr>\n",
              "    <tr>\n",
              "      <th>50%</th>\n",
              "      <td>1.000000</td>\n",
              "      <td>65.000000</td>\n",
              "      <td>1.000000</td>\n",
              "      <td>2.000000</td>\n",
              "      <td>1.000000</td>\n",
              "      <td>104.000000</td>\n",
              "      <td>37.150000</td>\n",
              "      <td>97.000000</td>\n",
              "      <td>82.550000</td>\n",
              "      <td>0.300000</td>\n",
              "      <td>0.000000</td>\n",
              "      <td>0.000000</td>\n",
              "      <td>0.000000</td>\n",
              "      <td>3.000000</td>\n",
              "      <td>2.000000</td>\n",
              "      <td>4.000000</td>\n",
              "      <td>4.000000</td>\n",
              "    </tr>\n",
              "    <tr>\n",
              "      <th>75%</th>\n",
              "      <td>1.000000</td>\n",
              "      <td>73.000000</td>\n",
              "      <td>1.000000</td>\n",
              "      <td>3.000000</td>\n",
              "      <td>1.000000</td>\n",
              "      <td>110.000000</td>\n",
              "      <td>40.500000</td>\n",
              "      <td>106.000000</td>\n",
              "      <td>86.575000</td>\n",
              "      <td>20.475000</td>\n",
              "      <td>0.000000</td>\n",
              "      <td>1.000000</td>\n",
              "      <td>0.000000</td>\n",
              "      <td>3.000000</td>\n",
              "      <td>3.000000</td>\n",
              "      <td>5.000000</td>\n",
              "      <td>4.000000</td>\n",
              "    </tr>\n",
              "    <tr>\n",
              "      <th>max</th>\n",
              "      <td>1.000000</td>\n",
              "      <td>90.000000</td>\n",
              "      <td>3.000000</td>\n",
              "      <td>4.000000</td>\n",
              "      <td>8.000000</td>\n",
              "      <td>168.000000</td>\n",
              "      <td>53.000000</td>\n",
              "      <td>135.000000</td>\n",
              "      <td>136.700000</td>\n",
              "      <td>170.500000</td>\n",
              "      <td>30.000000</td>\n",
              "      <td>1.000000</td>\n",
              "      <td>1.000000</td>\n",
              "      <td>3.000000</td>\n",
              "      <td>6.000000</td>\n",
              "      <td>6.000000</td>\n",
              "      <td>5.000000</td>\n",
              "    </tr>\n",
              "  </tbody>\n",
              "</table>\n",
              "</div>"
            ],
            "text/plain": [
              "        cvd_4types       age_s1  ...      tired25     hlthlm25\n",
              "count  3242.000000  3242.000000  ...  3242.000000  3242.000000\n",
              "mean      0.590068    64.828809  ...     4.292721     3.864898\n",
              "std       0.491897    10.400496  ...     1.021099     0.614247\n",
              "min       0.000000    39.000000  ...     1.000000     1.000000\n",
              "25%       0.000000    57.000000  ...     4.000000     4.000000\n",
              "50%       1.000000    65.000000  ...     4.000000     4.000000\n",
              "75%       1.000000    73.000000  ...     5.000000     4.000000\n",
              "max       1.000000    90.000000  ...     6.000000     5.000000\n",
              "\n",
              "[8 rows x 17 columns]"
            ]
          },
          "metadata": {
            "tags": []
          },
          "execution_count": 200
        }
      ]
    },
    {
      "cell_type": "code",
      "metadata": {
        "colab": {
          "base_uri": "https://localhost:8080/"
        },
        "id": "4x5g7YFXH7dL",
        "outputId": "cafe9ad8-0dc7-45ba-d627-9f324842e406"
      },
      "source": [
        "data.info()"
      ],
      "execution_count": 201,
      "outputs": [
        {
          "output_type": "stream",
          "text": [
            "<class 'pandas.core.frame.DataFrame'>\n",
            "RangeIndex: 3242 entries, 0 to 3241\n",
            "Data columns (total 17 columns):\n",
            " #   Column        Non-Null Count  Dtype  \n",
            "---  ------        --------------  -----  \n",
            " 0   cvd_4types    3242 non-null   int64  \n",
            " 1   age_s1        3242 non-null   int64  \n",
            " 2   race          3242 non-null   int64  \n",
            " 3   educat        3242 non-null   int64  \n",
            " 4   mstat         3242 non-null   int64  \n",
            " 5   hip           3242 non-null   float64\n",
            " 6   neck20        3242 non-null   float64\n",
            " 7   waist         3242 non-null   float64\n",
            " 8   av_weight_kg  3242 non-null   float64\n",
            " 9   cgpkyr        3242 non-null   float64\n",
            " 10  tea15         3242 non-null   int64  \n",
            " 11  srhype        3242 non-null   int64  \n",
            " 12  parrptdiab    3242 non-null   int64  \n",
            " 13  bend25        3242 non-null   int64  \n",
            " 14  happy25       3242 non-null   int64  \n",
            " 15  tired25       3242 non-null   int64  \n",
            " 16  hlthlm25      3242 non-null   int64  \n",
            "dtypes: float64(5), int64(12)\n",
            "memory usage: 430.7 KB\n"
          ],
          "name": "stdout"
        }
      ]
    },
    {
      "cell_type": "markdown",
      "metadata": {
        "id": "sVvZg2sIFH7w"
      },
      "source": [
        "##Part 1:\n",
        "Build a binary classifier model to predict the CVD Risk (Yes/No, or 1/0) using a Logistic Regression Model with the best performance possible"
      ]
    },
    {
      "cell_type": "code",
      "metadata": {
        "colab": {
          "base_uri": "https://localhost:8080/"
        },
        "id": "gXFsgghAMNco",
        "outputId": "b75f1679-c54f-45cc-b842-4aaad7e51dc1"
      },
      "source": [
        "#Display the columns to determine which we will need\n",
        "data.columns"
      ],
      "execution_count": 202,
      "outputs": [
        {
          "output_type": "execute_result",
          "data": {
            "text/plain": [
              "Index(['cvd_4types', 'age_s1', 'race', 'educat', 'mstat', 'hip', 'neck20',\n",
              "       'waist', 'av_weight_kg', 'cgpkyr', 'tea15', 'srhype', 'parrptdiab',\n",
              "       'bend25', 'happy25', 'tired25', 'hlthlm25'],\n",
              "      dtype='object')"
            ]
          },
          "metadata": {
            "tags": []
          },
          "execution_count": 202
        }
      ]
    },
    {
      "cell_type": "code",
      "metadata": {
        "id": "8FHSCySBLB-Q"
      },
      "source": [
        "#We are splitting our dataset into the test and train data\n",
        "\n",
        "col = [[ 'age_s1', 'race', 'educat', 'mstat', 'hip', 'neck20',\n",
        " 'waist', 'av_weight_kg', 'cgpkyr', 'tea15', 'srhype', 'parrptdiab',\n",
        " 'bend25', 'happy25', 'tired25', 'hlthlm25']]\n",
        "\n",
        "X = data[[ 'age_s1', 'race', 'educat', 'mstat', 'hip', 'neck20',\n",
        " 'waist', 'av_weight_kg', 'cgpkyr', 'tea15', 'srhype', 'parrptdiab',\n",
        " 'bend25', 'happy25', 'tired25', 'hlthlm25']]\n",
        "y = data['cvd_4types']\n",
        "\n",
        "X_train,X_test,y_train,y_test = train_test_split(X,y,random_state=0)"
      ],
      "execution_count": 203,
      "outputs": []
    },
    {
      "cell_type": "code",
      "metadata": {
        "colab": {
          "base_uri": "https://localhost:8080/"
        },
        "id": "iHvhddUDPj9P",
        "outputId": "e453c53f-eeef-4208-ac7d-eb98eecd34c4"
      },
      "source": [
        "print(X.shape)\n",
        "print(y.shape)"
      ],
      "execution_count": 204,
      "outputs": [
        {
          "output_type": "stream",
          "text": [
            "(3242, 16)\n",
            "(3242,)\n"
          ],
          "name": "stdout"
        }
      ]
    },
    {
      "cell_type": "code",
      "metadata": {
        "id": "isQ-53c4IlPF"
      },
      "source": [
        "#Train the Logistic Regression classifier\n",
        "m = LogisticRegression(C=1e40, solver='newton-cg', random_state=0)\n",
        "fitted_model = m.fit(X_train, y_train)"
      ],
      "execution_count": 205,
      "outputs": []
    },
    {
      "cell_type": "code",
      "metadata": {
        "colab": {
          "base_uri": "https://localhost:8080/"
        },
        "id": "WMF04cYvSud5",
        "outputId": "89477198-062d-4dfe-df26-2460af55dd39"
      },
      "source": [
        "#Using the score method to get the accuracy of the model\n",
        "print(\"Accuracy: \", m.score(X_test,y_test))"
      ],
      "execution_count": 207,
      "outputs": [
        {
          "output_type": "stream",
          "text": [
            "Accuracy:  0.6818742293464858\n"
          ],
          "name": "stdout"
        }
      ]
    },
    {
      "cell_type": "markdown",
      "metadata": {
        "id": "8y5wk2RlFWYI"
      },
      "source": [
        "##Part 2: \n",
        "Display the Feature Importance of all the features sorted in the order of decreasing influence on\n",
        "the CVD Risk"
      ]
    },
    {
      "cell_type": "code",
      "metadata": {
        "colab": {
          "base_uri": "https://localhost:8080/"
        },
        "id": "uxsHOPQBaqK-",
        "outputId": "6f5556ab-4e85-48fe-d333-dce765aa20f8"
      },
      "source": [
        "m.fit(X / np.std(X, 0),y)\n",
        "print(m.coef_)"
      ],
      "execution_count": 208,
      "outputs": [
        {
          "output_type": "stream",
          "text": [
            "[[ 7.29048816e-03 -3.72386647e-01  1.83014732e-01 -1.37113159e-01\n",
            "  -6.09559730e-01 -1.85504126e-01  1.13662808e+00 -2.35567505e-01\n",
            "   3.85735531e-04 -6.67102966e-02  7.28744393e-02  1.59857581e-01\n",
            "   8.84047420e-02 -8.35144736e-02  1.17775527e-01 -3.63241660e-01]]\n"
          ],
          "name": "stdout"
        }
      ]
    },
    {
      "cell_type": "code",
      "metadata": {
        "colab": {
          "base_uri": "https://localhost:8080/",
          "height": 507
        },
        "id": "bhDaFQIbOy4T",
        "outputId": "c23defbe-a596-4d98-b852-97b4959feef6"
      },
      "source": [
        "#A higher value of the Coefficients will imply larger influence of the corresponding \n",
        "#features on the Outcome (Target Variable)\n",
        "\n",
        "coef_table = pd.DataFrame(abs(m.coef_), columns= col).transpose().sort_values(by=0,ascending=False)\n",
        "coef_table.rename(columns={0: \"coef\"},inplace=True)\n",
        "\n",
        "coef_table"
      ],
      "execution_count": 209,
      "outputs": [
        {
          "output_type": "execute_result",
          "data": {
            "text/html": [
              "<div>\n",
              "<style scoped>\n",
              "    .dataframe tbody tr th:only-of-type {\n",
              "        vertical-align: middle;\n",
              "    }\n",
              "\n",
              "    .dataframe tbody tr th {\n",
              "        vertical-align: top;\n",
              "    }\n",
              "\n",
              "    .dataframe thead th {\n",
              "        text-align: right;\n",
              "    }\n",
              "</style>\n",
              "<table border=\"1\" class=\"dataframe\">\n",
              "  <thead>\n",
              "    <tr style=\"text-align: right;\">\n",
              "      <th></th>\n",
              "      <th>coef</th>\n",
              "    </tr>\n",
              "  </thead>\n",
              "  <tbody>\n",
              "    <tr>\n",
              "      <th>waist</th>\n",
              "      <td>1.136628</td>\n",
              "    </tr>\n",
              "    <tr>\n",
              "      <th>hip</th>\n",
              "      <td>0.609560</td>\n",
              "    </tr>\n",
              "    <tr>\n",
              "      <th>race</th>\n",
              "      <td>0.372387</td>\n",
              "    </tr>\n",
              "    <tr>\n",
              "      <th>hlthlm25</th>\n",
              "      <td>0.363242</td>\n",
              "    </tr>\n",
              "    <tr>\n",
              "      <th>av_weight_kg</th>\n",
              "      <td>0.235568</td>\n",
              "    </tr>\n",
              "    <tr>\n",
              "      <th>neck20</th>\n",
              "      <td>0.185504</td>\n",
              "    </tr>\n",
              "    <tr>\n",
              "      <th>educat</th>\n",
              "      <td>0.183015</td>\n",
              "    </tr>\n",
              "    <tr>\n",
              "      <th>parrptdiab</th>\n",
              "      <td>0.159858</td>\n",
              "    </tr>\n",
              "    <tr>\n",
              "      <th>mstat</th>\n",
              "      <td>0.137113</td>\n",
              "    </tr>\n",
              "    <tr>\n",
              "      <th>tired25</th>\n",
              "      <td>0.117776</td>\n",
              "    </tr>\n",
              "    <tr>\n",
              "      <th>bend25</th>\n",
              "      <td>0.088405</td>\n",
              "    </tr>\n",
              "    <tr>\n",
              "      <th>happy25</th>\n",
              "      <td>0.083514</td>\n",
              "    </tr>\n",
              "    <tr>\n",
              "      <th>srhype</th>\n",
              "      <td>0.072874</td>\n",
              "    </tr>\n",
              "    <tr>\n",
              "      <th>tea15</th>\n",
              "      <td>0.066710</td>\n",
              "    </tr>\n",
              "    <tr>\n",
              "      <th>age_s1</th>\n",
              "      <td>0.007290</td>\n",
              "    </tr>\n",
              "    <tr>\n",
              "      <th>cgpkyr</th>\n",
              "      <td>0.000386</td>\n",
              "    </tr>\n",
              "  </tbody>\n",
              "</table>\n",
              "</div>"
            ],
            "text/plain": [
              "                  coef\n",
              "waist         1.136628\n",
              "hip           0.609560\n",
              "race          0.372387\n",
              "hlthlm25      0.363242\n",
              "av_weight_kg  0.235568\n",
              "neck20        0.185504\n",
              "educat        0.183015\n",
              "parrptdiab    0.159858\n",
              "mstat         0.137113\n",
              "tired25       0.117776\n",
              "bend25        0.088405\n",
              "happy25       0.083514\n",
              "srhype        0.072874\n",
              "tea15         0.066710\n",
              "age_s1        0.007290\n",
              "cgpkyr        0.000386"
            ]
          },
          "metadata": {
            "tags": []
          },
          "execution_count": 209
        }
      ]
    },
    {
      "cell_type": "markdown",
      "metadata": {
        "id": "GkES83WmFb1z"
      },
      "source": [
        "##Part 3: \n",
        "Evaluate the performance of your model (including ROC Curve), explain the performance and\n",
        "draw a meaningful conclusion."
      ]
    },
    {
      "cell_type": "code",
      "metadata": {
        "colab": {
          "base_uri": "https://localhost:8080/"
        },
        "id": "QH1mNpxLeOJz",
        "outputId": "29d58950-421c-4c57-ec0c-9f320d9c9766"
      },
      "source": [
        "#Accuracy score\n",
        "y_pred = m.predict(x_test)\n",
        "print('Accuracy: ', metrics.accuracy_score(y_test, y_pred))"
      ],
      "execution_count": 210,
      "outputs": [
        {
          "output_type": "stream",
          "text": [
            "Accuracy:  0.6091245376078915\n"
          ],
          "name": "stdout"
        }
      ]
    },
    {
      "cell_type": "code",
      "metadata": {
        "colab": {
          "base_uri": "https://localhost:8080/"
        },
        "id": "gs1IMbeYgFk7",
        "outputId": "498f84e7-46c9-486a-868b-1458f39b630f"
      },
      "source": [
        "#Calculating the confusion matrix\n",
        "confusion_matrix = metrics.confusion_matrix(y_test, y_pred)\n",
        "print(confusion_matrix)"
      ],
      "execution_count": 211,
      "outputs": [
        {
          "output_type": "stream",
          "text": [
            "[[  3 314]\n",
            " [  3 491]]\n"
          ],
          "name": "stdout"
        }
      ]
    },
    {
      "cell_type": "code",
      "metadata": {
        "colab": {
          "base_uri": "https://localhost:8080/"
        },
        "id": "Jr-3wPuagO4B",
        "outputId": "7f4d736f-79d5-4b71-89b2-a0e3ecf80697"
      },
      "source": [
        "#Generating classification report\n",
        "print(classification_report(y_test, y_pred))"
      ],
      "execution_count": 212,
      "outputs": [
        {
          "output_type": "stream",
          "text": [
            "              precision    recall  f1-score   support\n",
            "\n",
            "           0       0.50      0.01      0.02       317\n",
            "           1       0.61      0.99      0.76       494\n",
            "\n",
            "    accuracy                           0.61       811\n",
            "   macro avg       0.55      0.50      0.39       811\n",
            "weighted avg       0.57      0.61      0.47       811\n",
            "\n"
          ],
          "name": "stdout"
        }
      ]
    },
    {
      "cell_type": "code",
      "metadata": {
        "colab": {
          "base_uri": "https://localhost:8080/",
          "height": 295
        },
        "id": "VLYI3T7BgYSm",
        "outputId": "fa0e8f82-f36d-4f56-8c44-d6f0a0ac14e4"
      },
      "source": [
        "logit_roc_auc = roc_auc_score(y_test, m.predict(X_test))\n",
        "fpr, tpr, thresholds = roc_curve(y_test, m.predict_proba(X_test)[:,1])\n",
        "plt.figure()\n",
        "plt.plot(fpr, tpr, label='Logistic Regression (area = %0.2f)' % logit_roc_auc)\n",
        "plt.plot([0, 1], [0, 1],'r--')\n",
        "plt.xlim([0.0, 1.0])\n",
        "plt.ylim([0.0, 1.05])\n",
        "plt.xlabel('False Positive Rate')\n",
        "plt.ylabel('True Positive Rate')\n",
        "plt.title('Receiver operating characteristic')\n",
        "plt.legend()\n",
        "plt.show()"
      ],
      "execution_count": 213,
      "outputs": [
        {
          "output_type": "display_data",
          "data": {
            "image/png": "[encoded data removed]",
            "text/plain": [
              "<Figure size 432x288 with 1 Axes>"
            ]
          },
          "metadata": {
            "tags": [],
            "needs_background": "light"
          }
        }
      ]
    }
  ]
}